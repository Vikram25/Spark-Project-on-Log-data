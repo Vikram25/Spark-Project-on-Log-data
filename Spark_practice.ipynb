{
  "nbformat": 4,
  "nbformat_minor": 0,
  "metadata": {
    "colab": {
      "name": "Spark_practice.ipynb",
      "provenance": [],
      "collapsed_sections": [],
      "toc_visible": true
    },
    "kernelspec": {
      "name": "python3",
      "display_name": "Python 3"
    }
  },
  "cells": [
    {
      "cell_type": "markdown",
      "metadata": {
        "id": "ABfzOgRvoMjz"
      },
      "source": [
        "install Java, Spark, and Findspark"
      ]
    },
    {
      "cell_type": "code",
      "metadata": {
        "id": "os1Y1tSioDU2"
      },
      "source": [
        "!apt-get install openjdk-8-jdk-headless -qq > /dev/null\r\n",
        "!wget -q https://downloads.apache.org/spark/spark-2.4.7/spark-2.4.7-bin-hadoop2.7.tgz\r\n",
        "!tar xf spark-2.4.7-bin-hadoop2.7.tgz\r\n",
        "!pip install -q findspark"
      ],
      "execution_count": null,
      "outputs": []
    },
    {
      "cell_type": "markdown",
      "metadata": {
        "id": "hHxZ5MsAoeo7"
      },
      "source": [
        "Set environment variables"
      ]
    },
    {
      "cell_type": "code",
      "metadata": {
        "id": "0Rt15cdeobkV"
      },
      "source": [
        "import os\r\n",
        "os.environ[\"JAVA_HOME\"] = \"/usr/lib/jvm/java-1.8.0-openjdk-amd64\"\r\n",
        "os.environ[\"SPARK_HOME\"] = \"/content/spark-2.4.7-bin-hadoop2.7\""
      ],
      "execution_count": null,
      "outputs": []
    },
    {
      "cell_type": "code",
      "metadata": {
        "id": "tAt1gehihdG0"
      },
      "source": [
        "\r\n",
        "import findspark\r\n",
        "findspark.init()"
      ],
      "execution_count": null,
      "outputs": []
    },
    {
      "cell_type": "markdown",
      "metadata": {
        "id": "eCu3YsYhmgiW"
      },
      "source": [
        "Create spaarksession and sparkcontext"
      ]
    },
    {
      "cell_type": "code",
      "metadata": {
        "id": "TiXiZrbLhg_r"
      },
      "source": [
        "from pyspark.sql import SparkSession\r\n",
        "spark = SparkSession.builder\\\r\n",
        "                    .appName('coding Assignment')\\\r\n",
        "                    .getOrCreate()\r\n",
        "\r\n",
        "sc=spark.sparkContext"
      ],
      "execution_count": null,
      "outputs": []
    },
    {
      "cell_type": "code",
      "metadata": {
        "id": "ncgx1HBanL08"
      },
      "source": [
        "input_data=\"access.log\""
      ],
      "execution_count": null,
      "outputs": []
    },
    {
      "cell_type": "code",
      "metadata": {
        "id": "H0kTPASUpfhL",
        "colab": {
          "base_uri": "https://localhost:8080/"
        },
        "outputId": "7ddd29ed-e5a4-4927-a536-abeac51cea8a"
      },
      "source": [
        "input_df = spark.read.text(input_data)\r\n",
        "input_df.printSchema()"
      ],
      "execution_count": null,
      "outputs": [
        {
          "output_type": "stream",
          "text": [
            "root\n",
            " |-- value: string (nullable = true)\n",
            "\n"
          ],
          "name": "stdout"
        }
      ]
    },
    {
      "cell_type": "code",
      "metadata": {
        "id": "emGXCYY6qAYd",
        "colab": {
          "base_uri": "https://localhost:8080/"
        },
        "outputId": "e2eeaaf4-20c4-4a58-d0e2-e1ae80e9e633"
      },
      "source": [
        "input_df.show(10, truncate=False)"
      ],
      "execution_count": null,
      "outputs": [
        {
          "output_type": "stream",
          "text": [
            "+-------------------------------------------------------------------------------------------------------------------------------------------------------------------------------------------------------------------------------------------------------------------+\n",
            "|value                                                                                                                                                                                                                                                              |\n",
            "+-------------------------------------------------------------------------------------------------------------------------------------------------------------------------------------------------------------------------------------------------------------------+\n",
            "|                                                                                                                                                                                                                                                                   |\n",
            "|13.66.139.0 - - [19/Dec/2020:13:57:26 +0100] \"GET /index.php?option=com_phocagallery&view=category&id=1:almhuette-raith&Itemid=53 HTTP/1.1\" 200 32653 \"-\" \"Mozilla/5.0 (compatible; bingbot/2.0; +http://www.bing.com/bingbot.htm)\" \"-\"                            |\n",
            "|157.48.153.185 - - [19/Dec/2020:14:08:06 +0100] \"GET /apache-log/access.log HTTP/1.1\" 200 233 \"-\" \"Mozilla/5.0 (Windows NT 6.3; Win64; x64) AppleWebKit/537.36 (KHTML, like Gecko) Chrome/87.0.4280.88 Safari/537.36\" \"-\"                                          |\n",
            "|157.48.153.185 - - [19/Dec/2020:14:08:08 +0100] \"GET /favicon.ico HTTP/1.1\" 404 217 \"http://www.almhuette-raith.at/apache-log/access.log\" \"Mozilla/5.0 (Windows NT 6.3; Win64; x64) AppleWebKit/537.36 (KHTML, like Gecko) Chrome/87.0.4280.88 Safari/537.36\" \"-\"  |\n",
            "|216.244.66.230 - - [19/Dec/2020:14:14:26 +0100] \"GET /robots.txt HTTP/1.1\" 200 304 \"-\" \"Mozilla/5.0 (compatible; DotBot/1.1; http://www.opensiteexplorer.org/dotbot, help@moz.com)\" \"-\"                                                                            |\n",
            "|54.36.148.92 - - [19/Dec/2020:14:16:44 +0100] \"GET /index.php?option=com_phocagallery&view=category&id=2%3Awinterfotos&Itemid=53 HTTP/1.1\" 200 30662 \"-\" \"Mozilla/5.0 (compatible; AhrefsBot/7.0; +http://ahrefs.com/robot/)\" \"-\"                                  |\n",
            "|92.101.35.224 - - [19/Dec/2020:14:29:21 +0100] \"GET /administrator/index.php HTTP/1.1\" 200 4263 \"\" \"Mozilla/4.0 (compatible; MSIE 6.0; Windows NT 5.1; SV1; .NET CLR 1.1.4322)\" \"-\"                                                                                |\n",
            "|73.166.162.225 - - [19/Dec/2020:14:58:59 +0100] \"GET /apache-log/access.log HTTP/1.1\" 200 1299 \"-\" \"Mozilla/5.0 (Windows NT 10.0; Win64; x64) AppleWebKit/537.36 (KHTML, like Gecko) Chrome/87.0.4280.101 Safari/537.36\" \"-\"                                       |\n",
            "|73.166.162.225 - - [19/Dec/2020:14:58:59 +0100] \"GET /favicon.ico HTTP/1.1\" 404 217 \"http://www.almhuette-raith.at/apache-log/access.log\" \"Mozilla/5.0 (Windows NT 10.0; Win64; x64) AppleWebKit/537.36 (KHTML, like Gecko) Chrome/87.0.4280.101 Safari/537.36\" \"-\"|\n",
            "|54.36.148.108 - - [19/Dec/2020:15:09:30 +0100] \"GET /robots.txt HTTP/1.1\" 200 304 \"-\" \"Mozilla/5.0 (compatible; AhrefsBot/7.0; +http://ahrefs.com/robot/)\" \"-\"                                                                                                     |\n",
            "+-------------------------------------------------------------------------------------------------------------------------------------------------------------------------------------------------------------------------------------------------------------------+\n",
            "only showing top 10 rows\n",
            "\n"
          ],
          "name": "stdout"
        }
      ]
    },
    {
      "cell_type": "code",
      "metadata": {
        "id": "jirrpHlIriZd",
        "colab": {
          "base_uri": "https://localhost:8080/"
        },
        "outputId": "2610efd4-bd49-4aea-d600-c46e52c7c865"
      },
      "source": [
        "# Taking a sample data to perform Regex\n",
        "sample_df = [item['value'] for item in input_df.take(15)]\n",
        "sample_df"
      ],
      "execution_count": null,
      "outputs": [
        {
          "output_type": "execute_result",
          "data": {
            "text/plain": [
              "['',\n",
              " '13.66.139.0 - - [19/Dec/2020:13:57:26 +0100] \"GET /index.php?option=com_phocagallery&view=category&id=1:almhuette-raith&Itemid=53 HTTP/1.1\" 200 32653 \"-\" \"Mozilla/5.0 (compatible; bingbot/2.0; +http://www.bing.com/bingbot.htm)\" \"-\"',\n",
              " '157.48.153.185 - - [19/Dec/2020:14:08:06 +0100] \"GET /apache-log/access.log HTTP/1.1\" 200 233 \"-\" \"Mozilla/5.0 (Windows NT 6.3; Win64; x64) AppleWebKit/537.36 (KHTML, like Gecko) Chrome/87.0.4280.88 Safari/537.36\" \"-\"',\n",
              " '157.48.153.185 - - [19/Dec/2020:14:08:08 +0100] \"GET /favicon.ico HTTP/1.1\" 404 217 \"http://www.almhuette-raith.at/apache-log/access.log\" \"Mozilla/5.0 (Windows NT 6.3; Win64; x64) AppleWebKit/537.36 (KHTML, like Gecko) Chrome/87.0.4280.88 Safari/537.36\" \"-\"',\n",
              " '216.244.66.230 - - [19/Dec/2020:14:14:26 +0100] \"GET /robots.txt HTTP/1.1\" 200 304 \"-\" \"Mozilla/5.0 (compatible; DotBot/1.1; http://www.opensiteexplorer.org/dotbot, help@moz.com)\" \"-\"',\n",
              " '54.36.148.92 - - [19/Dec/2020:14:16:44 +0100] \"GET /index.php?option=com_phocagallery&view=category&id=2%3Awinterfotos&Itemid=53 HTTP/1.1\" 200 30662 \"-\" \"Mozilla/5.0 (compatible; AhrefsBot/7.0; +http://ahrefs.com/robot/)\" \"-\"',\n",
              " '92.101.35.224 - - [19/Dec/2020:14:29:21 +0100] \"GET /administrator/index.php HTTP/1.1\" 200 4263 \"\" \"Mozilla/4.0 (compatible; MSIE 6.0; Windows NT 5.1; SV1; .NET CLR 1.1.4322)\" \"-\"',\n",
              " '73.166.162.225 - - [19/Dec/2020:14:58:59 +0100] \"GET /apache-log/access.log HTTP/1.1\" 200 1299 \"-\" \"Mozilla/5.0 (Windows NT 10.0; Win64; x64) AppleWebKit/537.36 (KHTML, like Gecko) Chrome/87.0.4280.101 Safari/537.36\" \"-\"',\n",
              " '73.166.162.225 - - [19/Dec/2020:14:58:59 +0100] \"GET /favicon.ico HTTP/1.1\" 404 217 \"http://www.almhuette-raith.at/apache-log/access.log\" \"Mozilla/5.0 (Windows NT 10.0; Win64; x64) AppleWebKit/537.36 (KHTML, like Gecko) Chrome/87.0.4280.101 Safari/537.36\" \"-\"',\n",
              " '54.36.148.108 - - [19/Dec/2020:15:09:30 +0100] \"GET /robots.txt HTTP/1.1\" 200 304 \"-\" \"Mozilla/5.0 (compatible; AhrefsBot/7.0; +http://ahrefs.com/robot/)\" \"-\"',\n",
              " '54.36.148.1 - - [19/Dec/2020:15:09:31 +0100] \"GET /index.php?option=com_phocagallery&view=category&id=2%3Awinterfotos&Itemid=53 HTTP/1.1\" 200 30618 \"-\" \"Mozilla/5.0 (compatible; AhrefsBot/7.0; +http://ahrefs.com/robot/)\" \"-\"',\n",
              " '162.158.203.24 - - [19/Dec/2020:15:16:50 +0100] \"GET /apache-log/access.log HTTP/1.1\" 200 2164 \"-\" \"-\" \"-\"',\n",
              " '35.237.4.214 - - [19/Dec/2020:15:22:40 +0100] \"GET /administrator/%22 HTTP/1.1\" 404 226 \"-\" \"Mozilla/5.0 (compatible; Discordbot/2.0; +https://discordapp.com)\" \"-\"',\n",
              " '42.236.10.125 - - [19/Dec/2020:15:23:10 +0100] \"GET / HTTP/1.1\" 200 10479 \"http://baidu.com/\" \"Mozilla/5.0 (Linux; U; Android 8.1.0; zh-CN; EML-AL00 Build/HUAWEIEML-AL00) AppleWebKit/537.36 (KHTML, like Gecko) Version/4.0 Chrome/57.0.2987.108 baidu.sogo.uc.UCBrowser/11.9.4.974 UWS/2.13.1.48 Mobile Safari/537.36 AliApp(DingTalk/4.5.11) com.alibaba.android.rimet/10487439 Channel/227200 language/zh-CN\" \"-\"',\n",
              " '42.236.10.125 - - [19/Dec/2020:15:23:11 +0100] \"GET /modules/mod_bowslideshow/tmpl/css/bowslideshow.css HTTP/1.1\" 200 1725 \"http://www.almhuette-raith.at/\" \"Mozilla/5.0 (Linux; U; Android 8.1.0; zh-CN; EML-AL00 Build/HUAWEIEML-AL00) AppleWebKit/537.36 (KHTML, like Gecko) Version/4.0 Chrome/57.0.2987.108 baidu.sogo.uc.UCBrowser/11.9.4.974 UWS/2.13.1.48 Mobile Safari/537.36 AliApp(DingTalk/4.5.11) com.alibaba.android.rimet/10487439 Channel/227200 language/zh-CN\" \"-\"']"
            ]
          },
          "metadata": {
            "tags": []
          },
          "execution_count": 8
        }
      ]
    },
    {
      "cell_type": "code",
      "metadata": {
        "id": "di4WIsLlrLRk"
      },
      "source": [
        "import re\r\n",
        "from pyspark.sql.context import SQLContext\r\n",
        "from pyspark.context import SparkContext\r\n",
        "from pyspark.sql.types import TimestampType"
      ],
      "execution_count": null,
      "outputs": []
    },
    {
      "cell_type": "code",
      "metadata": {
        "id": "QDYS6h2wr099",
        "colab": {
          "base_uri": "https://localhost:8080/"
        },
        "outputId": "7282996f-0708-409e-a331-7c4abc018091"
      },
      "source": [
        "#Regular expressions to extract the timestamp fields\r\n",
        "ts_pattern = r'\\d{2}/\\w{3}/\\d{4}:\\d{2}:\\d{2}:\\d{2}'\r\n",
        "timestamps = [re.search(ts_pattern, item).group(0) \r\n",
        "              if re.search(ts_pattern, item)\r\n",
        "              else 'No Match'\r\n",
        "              for item in sample_df]\r\n",
        "timestamps"
      ],
      "execution_count": null,
      "outputs": [
        {
          "output_type": "execute_result",
          "data": {
            "text/plain": [
              "['No Match',\n",
              " '19/Dec/2020:13:57:26',\n",
              " '19/Dec/2020:14:08:06',\n",
              " '19/Dec/2020:14:08:08',\n",
              " '19/Dec/2020:14:14:26',\n",
              " '19/Dec/2020:14:16:44',\n",
              " '19/Dec/2020:14:29:21',\n",
              " '19/Dec/2020:14:58:59',\n",
              " '19/Dec/2020:14:58:59',\n",
              " '19/Dec/2020:15:09:30',\n",
              " '19/Dec/2020:15:09:31',\n",
              " '19/Dec/2020:15:16:50',\n",
              " '19/Dec/2020:15:22:40',\n",
              " '19/Dec/2020:15:23:10',\n",
              " '19/Dec/2020:15:23:11']"
            ]
          },
          "metadata": {
            "tags": []
          },
          "execution_count": 10
        }
      ]
    },
    {
      "cell_type": "code",
      "metadata": {
        "id": "LAyNxXBd1iCK",
        "colab": {
          "base_uri": "https://localhost:8080/"
        },
        "outputId": "1403c88b-e20d-4142-a32d-3f2ca2cafed7"
      },
      "source": [
        "#Regular expressions to extract the HTTP request methods, URIs, and Protocol patterns fields\r\n",
        "method_uri_protocol_pattern = r'\\\"(\\S+)\\s(\\S+)\\s*(\\S*)\\\"'\r\n",
        "method_uri_protocol = [re.search(method_uri_protocol_pattern, item).groups()\r\n",
        "               if re.search(method_uri_protocol_pattern, item)\r\n",
        "               else 'no match'\r\n",
        "               for item in sample_df]\r\n",
        "method_uri_protocol"
      ],
      "execution_count": null,
      "outputs": [
        {
          "output_type": "execute_result",
          "data": {
            "text/plain": [
              "['no match',\n",
              " ('GET',\n",
              "  '/index.php?option=com_phocagallery&view=category&id=1:almhuette-raith&Itemid=53',\n",
              "  'HTTP/1.1'),\n",
              " ('GET', '/apache-log/access.log', 'HTTP/1.1'),\n",
              " ('GET', '/favicon.ico', 'HTTP/1.1'),\n",
              " ('GET', '/robots.txt', 'HTTP/1.1'),\n",
              " ('GET',\n",
              "  '/index.php?option=com_phocagallery&view=category&id=2%3Awinterfotos&Itemid=53',\n",
              "  'HTTP/1.1'),\n",
              " ('GET', '/administrator/index.php', 'HTTP/1.1'),\n",
              " ('GET', '/apache-log/access.log', 'HTTP/1.1'),\n",
              " ('GET', '/favicon.ico', 'HTTP/1.1'),\n",
              " ('GET', '/robots.txt', 'HTTP/1.1'),\n",
              " ('GET',\n",
              "  '/index.php?option=com_phocagallery&view=category&id=2%3Awinterfotos&Itemid=53',\n",
              "  'HTTP/1.1'),\n",
              " ('GET', '/apache-log/access.log', 'HTTP/1.1'),\n",
              " ('GET', '/administrator/%22', 'HTTP/1.1'),\n",
              " ('GET', '/', 'HTTP/1.1'),\n",
              " ('GET', '/modules/mod_bowslideshow/tmpl/css/bowslideshow.css', 'HTTP/1.1')]"
            ]
          },
          "metadata": {
            "tags": []
          },
          "execution_count": 11
        }
      ]
    },
    {
      "cell_type": "code",
      "metadata": {
        "id": "fJq_GHKN2Yia",
        "colab": {
          "base_uri": "https://localhost:8080/"
        },
        "outputId": "a2c63b2b-9d13-4156-d54a-cf2f8b4ca9a3"
      },
      "source": [
        "#creating final dataframe required for test assigment\r\n",
        "from pyspark.sql.functions import regexp_extract\r\n",
        "\r\n",
        "final_df = input_df.select(regexp_extract('value', ts_pattern, 0).alias('timestamp'),\r\n",
        "                         regexp_extract('value', method_uri_protocol_pattern, 1).alias('API Call'))\r\n",
        "final_df.show()\r\n",
        "print((final_df.count(), len(final_df.columns)))"
      ],
      "execution_count": null,
      "outputs": [
        {
          "output_type": "stream",
          "text": [
            "+--------------------+--------+\n",
            "|           timestamp|API Call|\n",
            "+--------------------+--------+\n",
            "|                    |        |\n",
            "|19/Dec/2020:13:57:26|     GET|\n",
            "|19/Dec/2020:14:08:06|     GET|\n",
            "|19/Dec/2020:14:08:08|     GET|\n",
            "|19/Dec/2020:14:14:26|     GET|\n",
            "|19/Dec/2020:14:16:44|     GET|\n",
            "|19/Dec/2020:14:29:21|     GET|\n",
            "|19/Dec/2020:14:58:59|     GET|\n",
            "|19/Dec/2020:14:58:59|     GET|\n",
            "|19/Dec/2020:15:09:30|     GET|\n",
            "|19/Dec/2020:15:09:31|     GET|\n",
            "|19/Dec/2020:15:16:50|     GET|\n",
            "|19/Dec/2020:15:22:40|     GET|\n",
            "|19/Dec/2020:15:23:10|     GET|\n",
            "|19/Dec/2020:15:23:11|     GET|\n",
            "|19/Dec/2020:15:23:11|     GET|\n",
            "|19/Dec/2020:15:23:11|     GET|\n",
            "|19/Dec/2020:15:23:11|     GET|\n",
            "|19/Dec/2020:15:23:11|     GET|\n",
            "|19/Dec/2020:15:23:11|     GET|\n",
            "+--------------------+--------+\n",
            "only showing top 20 rows\n",
            "\n",
            "(8410, 2)\n"
          ],
          "name": "stdout"
        }
      ]
    },
    {
      "cell_type": "code",
      "metadata": {
        "colab": {
          "base_uri": "https://localhost:8080/"
        },
        "id": "pwnilFXOlAs2",
        "outputId": "73bdab41-8fa5-4bc1-dead-433f272509f4"
      },
      "source": [
        "final_df.printSchema()"
      ],
      "execution_count": null,
      "outputs": [
        {
          "output_type": "stream",
          "text": [
            "root\n",
            " |-- timestamp: string (nullable = true)\n",
            " |-- API Call: string (nullable = true)\n",
            "\n"
          ],
          "name": "stdout"
        }
      ]
    },
    {
      "cell_type": "code",
      "metadata": {
        "id": "BIlOCKNu3jdZ",
        "colab": {
          "base_uri": "https://localhost:8080/"
        },
        "outputId": "665ed4c6-11e4-4ce6-ab60-92f61b385997"
      },
      "source": [
        "#check for null value in final Data frame\r\n",
        "bad_rows_df = final_df.filter(final_df['timestamp'].isNull() |\r\n",
        "                             final_df['API Call'].isNull() )\r\n",
        "                             \r\n",
        "bad_rows_df.count()"
      ],
      "execution_count": null,
      "outputs": [
        {
          "output_type": "execute_result",
          "data": {
            "text/plain": [
              "0"
            ]
          },
          "metadata": {
            "tags": []
          },
          "execution_count": 14
        }
      ]
    },
    {
      "cell_type": "code",
      "metadata": {
        "id": "y_njAs_cDb1Y"
      },
      "source": [
        "from pyspark.sql.functions import to_timestamp"
      ],
      "execution_count": null,
      "outputs": []
    },
    {
      "cell_type": "code",
      "metadata": {
        "id": "NGy_9mfPDeJo"
      },
      "source": [
        "time_df=final_df.select('*', to_timestamp(final_df['timestamp'], \"dd/MMM/yyyy:HH:mm:ss\").alias('time')).drop('timestamp')"
      ],
      "execution_count": null,
      "outputs": []
    },
    {
      "cell_type": "code",
      "metadata": {
        "colab": {
          "base_uri": "https://localhost:8080/"
        },
        "id": "RalN0UOTERQf",
        "outputId": "e714154c-ff6c-408e-b17b-e939109e5986"
      },
      "source": [
        "time_df.printSchema()\r\n",
        "time_df.count()\r\n",
        "time_df.show()"
      ],
      "execution_count": null,
      "outputs": [
        {
          "output_type": "stream",
          "text": [
            "root\n",
            " |-- API Call: string (nullable = true)\n",
            " |-- time: timestamp (nullable = true)\n",
            "\n",
            "+--------+-------------------+\n",
            "|API Call|               time|\n",
            "+--------+-------------------+\n",
            "|        |               null|\n",
            "|     GET|2020-12-19 13:57:26|\n",
            "|     GET|2020-12-19 14:08:06|\n",
            "|     GET|2020-12-19 14:08:08|\n",
            "|     GET|2020-12-19 14:14:26|\n",
            "|     GET|2020-12-19 14:16:44|\n",
            "|     GET|2020-12-19 14:29:21|\n",
            "|     GET|2020-12-19 14:58:59|\n",
            "|     GET|2020-12-19 14:58:59|\n",
            "|     GET|2020-12-19 15:09:30|\n",
            "|     GET|2020-12-19 15:09:31|\n",
            "|     GET|2020-12-19 15:16:50|\n",
            "|     GET|2020-12-19 15:22:40|\n",
            "|     GET|2020-12-19 15:23:10|\n",
            "|     GET|2020-12-19 15:23:11|\n",
            "|     GET|2020-12-19 15:23:11|\n",
            "|     GET|2020-12-19 15:23:11|\n",
            "|     GET|2020-12-19 15:23:11|\n",
            "|     GET|2020-12-19 15:23:11|\n",
            "|     GET|2020-12-19 15:23:11|\n",
            "+--------+-------------------+\n",
            "only showing top 20 rows\n",
            "\n"
          ],
          "name": "stdout"
        }
      ]
    },
    {
      "cell_type": "code",
      "metadata": {
        "colab": {
          "base_uri": "https://localhost:8080/"
        },
        "id": "uqDNa68R24KK",
        "outputId": "7eb9fb23-6d9e-4315-aba8-f01fa4424b05"
      },
      "source": [
        "# Cleaned data frame in correct formats\n",
        "from pyspark.sql.functions import date_trunc,col\n",
        "cleaned_df = time_df.withColumn(\"hour\", date_trunc(\"hour\", col(\"time\").cast(\"timestamp\"))).drop('time')\n",
        "cleaned_df.show()"
      ],
      "execution_count": null,
      "outputs": [
        {
          "output_type": "stream",
          "text": [
            "+--------+-------------------+\n",
            "|API Call|               hour|\n",
            "+--------+-------------------+\n",
            "|        |               null|\n",
            "|     GET|2020-12-19 13:00:00|\n",
            "|     GET|2020-12-19 14:00:00|\n",
            "|     GET|2020-12-19 14:00:00|\n",
            "|     GET|2020-12-19 14:00:00|\n",
            "|     GET|2020-12-19 14:00:00|\n",
            "|     GET|2020-12-19 14:00:00|\n",
            "|     GET|2020-12-19 14:00:00|\n",
            "|     GET|2020-12-19 14:00:00|\n",
            "|     GET|2020-12-19 15:00:00|\n",
            "|     GET|2020-12-19 15:00:00|\n",
            "|     GET|2020-12-19 15:00:00|\n",
            "|     GET|2020-12-19 15:00:00|\n",
            "|     GET|2020-12-19 15:00:00|\n",
            "|     GET|2020-12-19 15:00:00|\n",
            "|     GET|2020-12-19 15:00:00|\n",
            "|     GET|2020-12-19 15:00:00|\n",
            "|     GET|2020-12-19 15:00:00|\n",
            "|     GET|2020-12-19 15:00:00|\n",
            "|     GET|2020-12-19 15:00:00|\n",
            "+--------+-------------------+\n",
            "only showing top 20 rows\n",
            "\n"
          ],
          "name": "stdout"
        }
      ]
    },
    {
      "cell_type": "code",
      "metadata": {
        "colab": {
          "base_uri": "https://localhost:8080/"
        },
        "id": "Q-IAqX7gAoTt",
        "outputId": "0e5df250-11a4-4002-9277-5ebe0ab3ca06"
      },
      "source": [
        "#This code also generates the result but not in correct format\n",
        "cleaned_df.groupBy('hour', 'API Call').agg({'API Call':'count'}).sort('hour', ascending=True).show()"
      ],
      "execution_count": null,
      "outputs": [
        {
          "output_type": "stream",
          "text": [
            "+-------------------+--------+---------------+\n",
            "|               hour|API Call|count(API Call)|\n",
            "+-------------------+--------+---------------+\n",
            "|               null|        |              1|\n",
            "|2020-12-19 13:00:00|     GET|              1|\n",
            "|2020-12-19 14:00:00|     GET|              7|\n",
            "|2020-12-19 15:00:00|     GET|             36|\n",
            "|2020-12-19 16:00:00|     GET|             12|\n",
            "|2020-12-19 17:00:00|     GET|             45|\n",
            "|2020-12-19 17:00:00|    POST|             43|\n",
            "|2020-12-19 18:00:00|     GET|             78|\n",
            "|2020-12-19 18:00:00|    POST|             73|\n",
            "|2020-12-19 19:00:00|     GET|            146|\n",
            "|2020-12-19 19:00:00|    POST|             66|\n",
            "|2020-12-19 20:00:00|     GET|            123|\n",
            "|2020-12-19 20:00:00|    POST|             75|\n",
            "|2020-12-19 21:00:00|    POST|             61|\n",
            "|2020-12-19 21:00:00|     GET|             88|\n",
            "|2020-12-19 22:00:00|    POST|             52|\n",
            "|2020-12-19 22:00:00|     GET|             56|\n",
            "|2020-12-19 23:00:00|     GET|             90|\n",
            "|2020-12-19 23:00:00|    POST|             83|\n",
            "|2020-12-20 00:00:00|     GET|             72|\n",
            "+-------------------+--------+---------------+\n",
            "only showing top 20 rows\n",
            "\n"
          ],
          "name": "stdout"
        }
      ]
    },
    {
      "cell_type": "code",
      "metadata": {
        "colab": {
          "base_uri": "https://localhost:8080/"
        },
        "id": "WzORh1y8l2PJ",
        "outputId": "e7c41b4c-c588-4d47-bc9f-70335eacd89a"
      },
      "source": [
        "from pyspark.sql.functions import *\n",
        "get_df = cleaned_df.groupBy(\"hour\").agg(count(when(col(\"API Call\") == \"GET\", 1)).alias(\"num(GET)\")).sort('hour', ascending=True)\n",
        "get_df.show()"
      ],
      "execution_count": null,
      "outputs": [
        {
          "output_type": "stream",
          "text": [
            "+-------------------+--------+\n",
            "|               hour|num(GET)|\n",
            "+-------------------+--------+\n",
            "|               null|       0|\n",
            "|2020-12-19 13:00:00|       1|\n",
            "|2020-12-19 14:00:00|       7|\n",
            "|2020-12-19 15:00:00|      36|\n",
            "|2020-12-19 16:00:00|      12|\n",
            "|2020-12-19 17:00:00|      45|\n",
            "|2020-12-19 18:00:00|      78|\n",
            "|2020-12-19 19:00:00|     146|\n",
            "|2020-12-19 20:00:00|     123|\n",
            "|2020-12-19 21:00:00|      88|\n",
            "|2020-12-19 22:00:00|      56|\n",
            "|2020-12-19 23:00:00|      90|\n",
            "|2020-12-20 00:00:00|      72|\n",
            "|2020-12-20 01:00:00|      74|\n",
            "|2020-12-20 02:00:00|      62|\n",
            "|2020-12-20 03:00:00|      71|\n",
            "|2020-12-20 04:00:00|      86|\n",
            "|2020-12-20 05:00:00|      83|\n",
            "|2020-12-20 06:00:00|      76|\n",
            "|2020-12-20 07:00:00|      67|\n",
            "+-------------------+--------+\n",
            "only showing top 20 rows\n",
            "\n"
          ],
          "name": "stdout"
        }
      ]
    },
    {
      "cell_type": "code",
      "metadata": {
        "colab": {
          "base_uri": "https://localhost:8080/"
        },
        "id": "LfqRa0oUsR7A",
        "outputId": "d62c3ef8-d79b-43b2-907f-20a0dbe6e0e3"
      },
      "source": [
        "post_df = cleaned_df.groupBy(\"hour\").agg(count(when(col(\"API Call\") == \"POST\", 1)).alias(\"num(POST)\")).sort('hour', ascending=True)\r\n",
        "post_df.show()"
      ],
      "execution_count": null,
      "outputs": [
        {
          "output_type": "stream",
          "text": [
            "+-------------------+---------+\n",
            "|               hour|num(POST)|\n",
            "+-------------------+---------+\n",
            "|               null|        0|\n",
            "|2020-12-19 13:00:00|        0|\n",
            "|2020-12-19 14:00:00|        0|\n",
            "|2020-12-19 15:00:00|        0|\n",
            "|2020-12-19 16:00:00|        0|\n",
            "|2020-12-19 17:00:00|       43|\n",
            "|2020-12-19 18:00:00|       73|\n",
            "|2020-12-19 19:00:00|       66|\n",
            "|2020-12-19 20:00:00|       75|\n",
            "|2020-12-19 21:00:00|       61|\n",
            "|2020-12-19 22:00:00|       52|\n",
            "|2020-12-19 23:00:00|       83|\n",
            "|2020-12-20 00:00:00|       69|\n",
            "|2020-12-20 01:00:00|       63|\n",
            "|2020-12-20 02:00:00|       55|\n",
            "|2020-12-20 03:00:00|       67|\n",
            "|2020-12-20 04:00:00|       77|\n",
            "|2020-12-20 05:00:00|       77|\n",
            "|2020-12-20 06:00:00|       69|\n",
            "|2020-12-20 07:00:00|       65|\n",
            "+-------------------+---------+\n",
            "only showing top 20 rows\n",
            "\n"
          ],
          "name": "stdout"
        }
      ]
    },
    {
      "cell_type": "code",
      "metadata": {
        "colab": {
          "base_uri": "https://localhost:8080/"
        },
        "id": "3Cm5aqCvsgZC",
        "outputId": "edcd4347-da59-4517-a053-3b6f0e203fec"
      },
      "source": [
        "final_result = get_df.join(post_df, on=['hour'], how='inner')\r\n",
        "final_result.show()"
      ],
      "execution_count": null,
      "outputs": [
        {
          "output_type": "stream",
          "text": [
            "+-------------------+--------+---------+\n",
            "|               hour|num(GET)|num(POST)|\n",
            "+-------------------+--------+---------+\n",
            "|2020-12-19 13:00:00|       1|        0|\n",
            "|2020-12-19 14:00:00|       7|        0|\n",
            "|2020-12-19 15:00:00|      36|        0|\n",
            "|2020-12-19 16:00:00|      12|        0|\n",
            "|2020-12-19 17:00:00|      45|       43|\n",
            "|2020-12-19 18:00:00|      78|       73|\n",
            "|2020-12-19 19:00:00|     146|       66|\n",
            "|2020-12-19 20:00:00|     123|       75|\n",
            "|2020-12-19 21:00:00|      88|       61|\n",
            "|2020-12-19 22:00:00|      56|       52|\n",
            "|2020-12-19 23:00:00|      90|       83|\n",
            "|2020-12-20 00:00:00|      72|       69|\n",
            "|2020-12-20 01:00:00|      74|       63|\n",
            "|2020-12-20 02:00:00|      62|       55|\n",
            "|2020-12-20 03:00:00|      71|       67|\n",
            "|2020-12-20 04:00:00|      86|       77|\n",
            "|2020-12-20 05:00:00|      83|       77|\n",
            "|2020-12-20 06:00:00|      76|       69|\n",
            "|2020-12-20 07:00:00|      67|       65|\n",
            "|2020-12-20 08:00:00|      63|       62|\n",
            "+-------------------+--------+---------+\n",
            "only showing top 20 rows\n",
            "\n"
          ],
          "name": "stdout"
        }
      ]
    }
  ]
}